{
 "cells": [
  {
   "cell_type": "raw",
   "metadata": {},
   "source": [
    "---\n",
    "title: \"Learning Multiple Boolean Functions\"\n",
    "toc: true\n",
    "highlight-style: pygments\n",
    "format:\n",
    "  html: \n",
    "    code-fold: true\n",
    "    html-math-method: katex\n",
    "jupiter: python3\n",
    "---"
   ]
  },
  {
   "cell_type": "markdown",
   "metadata": {},
   "source": [
    "## Introduction"
   ]
  },
  {
   "cell_type": "markdown",
   "metadata": {},
   "source": [
    "### Sub Title"
   ]
  }
 ],
 "metadata": {
  "kernelspec": {
   "display_name": "FLSC-HW1",
   "language": "python",
   "name": "python3"
  },
  "language_info": {
   "name": "python",
   "version": "3.11.9"
  }
 },
 "nbformat": 4,
 "nbformat_minor": 2
}
